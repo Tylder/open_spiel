{
 "cells": [
  {
   "cell_type": "code",
   "execution_count": 1,
   "metadata": {},
   "outputs": [],
   "source": [
    "import itertools as it\n",
    "from matplotlib import pyplot as plt\n",
    "import numpy as np\n",
    "import pyspiel\n",
    "\n",
    "from open_spiel.python.algorithms import exploitability\n",
    "from open_spiel.python import policy as policy_lib\n",
    "\n",
    "np.set_printoptions(precision=3, suppress=True, floatmode='fixed')"
   ]
  },
  {
   "cell_type": "code",
   "execution_count": 5,
   "metadata": {},
   "outputs": [
    {
     "name": "stdout",
     "output_type": "stream",
     "text": [
      "...\n",
      "...\n",
      "...\n",
      "Taking action 3 x(1,0)\n",
      "...\n",
      "x..\n",
      "...\n",
      "Taking action 4 o(1,1)\n",
      "...\n",
      "xo.\n",
      "...\n",
      "Taking action 7 x(2,1)\n",
      "...\n",
      "xo.\n",
      ".x.\n",
      "Taking action 0 o(0,0)\n",
      "o..\n",
      "xo.\n",
      ".x.\n",
      "Taking action 5 x(1,2)\n",
      "o..\n",
      "xox\n",
      ".x.\n",
      "Taking action 1 o(0,1)\n",
      "oo.\n",
      "xox\n",
      ".x.\n",
      "Taking action 2 x(0,2)\n",
      "oox\n",
      "xox\n",
      ".x.\n",
      "Taking action 6 o(2,0)\n",
      "oox\n",
      "xox\n",
      "ox.\n",
      "Taking action 8 x(2,2)\n",
      "oox\n",
      "xox\n",
      "oxx\n",
      "Game over; returns [1.0, -1.0]\n"
     ]
    }
   ],
   "source": [
    "game = pyspiel.load_game('tic_tac_toe')\n",
    "state = game.new_initial_state()\n",
    "\n",
    "print(state)\n",
    "while not state.is_terminal():\n",
    "  action = np.random.choice(state.legal_actions())\n",
    "  print(f'Taking action {action} {state.action_to_string(action)}')\n",
    "  state.apply_action(action)\n",
    "  print(state)\n",
    "print(f'Game over; returns {state.returns()}')"
   ]
  },
  {
   "cell_type": "code",
   "execution_count": 51,
   "metadata": {},
   "outputs": [
    {
     "name": "stdout",
     "output_type": "stream",
     "text": [
      "short_name: kuhn_poker\n",
      "long_name: Kuhn Poker\n",
      "dynamics: Sequential\n",
      "chance_mode: ExplicitStochastic\n",
      "information: ImperfectInformation\n",
      "utility: ZeroSum\n",
      "reward_model: Terminal\n",
      "max_num_players: 10\n",
      "min_num_players: 2\n",
      "provides_information_state_string: true\n",
      "provides_information_state_tensor: true\n",
      "provides_observation_string: true\n",
      "provides_observation_tensor: true\n",
      "provides_factored_observation_string: true\n",
      "parameter_specification: players=kInt***2***false\n"
     ]
    }
   ],
   "source": [
    "\n",
    "game = pyspiel.load_game('kuhn_poker', {\"players\": 2})\n",
    "print(game.get_type().pretty_print())"
   ]
  },
  {
   "cell_type": "code",
   "execution_count": 52,
   "metadata": {},
   "outputs": [
    {
     "name": "stdout",
     "output_type": "stream",
     "text": [
      "[['0', '0pb', '1', '1pb', '2', '2pb'], ['1p', '1b', '2p', '2b', '0p', '0b']]\n",
      "[[0.500 0.500]\n",
      " [0.500 0.500]\n",
      " [0.500 0.500]\n",
      " [0.500 0.500]\n",
      " [0.500 0.500]\n",
      " [0.500 0.500]\n",
      " [0.500 0.500]\n",
      " [0.500 0.500]\n",
      " [0.500 0.500]\n",
      " [0.500 0.500]\n",
      " [0.500 0.500]\n",
      " [0.500 0.500]]\n"
     ]
    }
   ],
   "source": [
    "policy = policy_lib.TabularPolicy(game)\n",
    "print(policy.states_per_player)\n",
    "print(policy.action_probability_array)"
   ]
  },
  {
   "cell_type": "code",
   "execution_count": 53,
   "metadata": {},
   "outputs": [
    {
     "name": "stdout",
     "output_type": "stream",
     "text": [
      "0        p=[0.500 0.500]\n",
      "0pb      p=[0.500 0.500]\n",
      "1        p=[0.500 0.500]\n",
      "1pb      p=[0.500 0.500]\n",
      "2        p=[0.500 0.500]\n",
      "2pb      p=[0.500 0.500]\n",
      "1p       p=[0.500 0.500]\n",
      "1b       p=[0.500 0.500]\n",
      "2p       p=[0.500 0.500]\n",
      "2b       p=[0.500 0.500]\n",
      "0p       p=[0.500 0.500]\n",
      "0b       p=[0.500 0.500]\n"
     ]
    }
   ],
   "source": [
    "def print_policy(policy):\n",
    "  for state, probs in zip(it.chain(*policy.states_per_player),\n",
    "                          policy.action_probability_array):\n",
    "    print(f'{state:6}   p={probs}')\n",
    "\n",
    "print_policy(policy)"
   ]
  },
  {
   "cell_type": "code",
   "execution_count": 54,
   "metadata": {},
   "outputs": [
    {
     "name": "stdout",
     "output_type": "stream",
     "text": [
      "0.9166666666666666\n"
     ]
    }
   ],
   "source": [
    "print(exploitability.nash_conv(game, policy))"
   ]
  },
  {
   "cell_type": "code",
   "execution_count": 55,
   "metadata": {},
   "outputs": [],
   "source": [
    "def new_reach(so_far, player, action_prob):\n",
    "  \"\"\"Returns new reach probabilities.\"\"\"\n",
    "  new = np.array(so_far)\n",
    "  new[player] *= action_prob\n",
    "  return new\n",
    "\n",
    "def calc_cfr(state, reach):\n",
    "  \"\"\"Updates regrets; returns utility for all players.\"\"\"\n",
    "  if state.is_terminal():\n",
    "    return state.returns()\n",
    "  elif state.is_chance_node():\n",
    "    return sum(prob * calc_cfr(state.child(action), new_reach(reach, -1, prob))\n",
    "               for action, prob in state.chance_outcomes())\n",
    "  else:\n",
    "    # We are at a player decision point.\n",
    "    player = state.current_player()\n",
    "    index = policy.state_index(state)\n",
    "    \n",
    "    # Compute utilities after each action, updating regrets deeper in the tree.\n",
    "    utility = np.zeros((game.num_distinct_actions(), game.num_players()))\n",
    "    for action in state.legal_actions():\n",
    "      prob = curr_policy[index][action]\n",
    "      utility[action] = calc_cfr(state.child(action), new_reach(reach, player, prob))\n",
    "\n",
    "    # Compute regrets at this state.\n",
    "    cfr_prob = np.prod(reach[:player]) * np.prod(reach[player+1:])\n",
    "    value = np.einsum('ap,a->p', utility, curr_policy[index])\n",
    "    for action in state.legal_actions():\n",
    "      regrets[index][action] += cfr_prob * (utility[action][player] - value[player])\n",
    "\n",
    "    # Return the value of this state for all players.\n",
    "    return value"
   ]
  },
  {
   "cell_type": "code",
   "execution_count": 75,
   "metadata": {},
   "outputs": [
    {
     "name": "stdout",
     "output_type": "stream",
     "text": [
      "Nash conv after step 0 is 0.6666666666666656\n",
      "Nash conv after step 1 is 0.5833333333333321\n",
      "Nash conv after step 2 is 0.4814814814814816\n",
      "Nash conv after step 4 is 0.27956581948517456\n",
      "Nash conv after step 8 is 0.2045374078549737\n",
      "Nash conv after step 16 is 0.0957019801773486\n",
      "Nash conv after step 32 is 0.09602625213077909\n",
      "Nash conv after step 64 is 0.05657638349057331\n",
      "Nash conv after step 128 is 0.035512027875593655\n",
      "Nash conv after step 256 is 0.029967092000654116\n",
      "Nash conv after step 512 is 0.019390765558141843\n",
      "Nash conv after step 1024 is 0.014985811882586908\n"
     ]
    }
   ],
   "source": [
    "game = pyspiel.load_game('kuhn_poker', {\"players\": 2})\n",
    "# game = pyspiel.load_game('turn_based_simultaneous_game(game=goofspiel(imp_info=true,num_cards=4,players=2,points_order=descending))')\n",
    "policy = policy_lib.TabularPolicy(game)\n",
    "initial_state = game.new_initial_state()\n",
    "curr_policy = policy.action_probability_array.copy()\n",
    "regrets = np.zeros_like(policy.action_probability_array)\n",
    "eval_steps = []\n",
    "eval_nash_conv = []\n",
    "for step in range(1025):\n",
    "  # Compute regrets\n",
    "  calc_cfr(initial_state, np.ones(1 + game.num_players()))\n",
    "\n",
    "  # Find the new regret-matching policy\n",
    "  floored_regrets = np.maximum(regrets, 1e-16)\n",
    "  sum_floored_regrets = np.sum(floored_regrets, axis=1, keepdims=True)\n",
    "  curr_policy = floored_regrets / sum_floored_regrets\n",
    "\n",
    "  # Update the average policy\n",
    "  lr = 1 / (1 + step)\n",
    "  policy.action_probability_array *= (1 - lr)\n",
    "  policy.action_probability_array += curr_policy * lr\n",
    "\n",
    "  # Evaluate the average policy\n",
    "  if step & (step-1) == 0:\n",
    "    nc = exploitability.nash_conv(game, policy)\n",
    "    eval_steps.append(step)\n",
    "    eval_nash_conv.append(nc)\n",
    "    print(f'Nash conv after step {step} is {nc}')"
   ]
  },
  {
   "cell_type": "code",
   "execution_count": null,
   "metadata": {},
   "outputs": [],
   "source": []
  },
  {
   "cell_type": "code",
   "execution_count": 77,
   "metadata": {},
   "outputs": [
    {
     "data": {
      "image/png": "[encoded data removed]",
      "text/plain": [
       "<Figure size 432x288 with 1 Axes>"
      ]
     },
     "metadata": {
      "needs_background": "light"
     },
     "output_type": "display_data"
    }
   ],
   "source": [
    "fig, ax = plt.subplots()\n",
    "ax.set_title(\"NashConv by CFR Iteration\")\n",
    "ax.plot(eval_steps, eval_nash_conv)\n",
    "fig.show()"
   ]
  },
  {
   "cell_type": "code",
   "execution_count": 78,
   "metadata": {},
   "outputs": [
    {
     "data": {
      "image/png": "[encoded data removed]",
      "text/plain": [
       "<Figure size 432x288 with 1 Axes>"
      ]
     },
     "metadata": {
      "needs_background": "light"
     },
     "output_type": "display_data"
    }
   ],
   "source": [
    "fig, ax = plt.subplots()\n",
    "ax.set_title(\"NashConv by CFR Iteration (log-log scale)\")\n",
    "ax.loglog(eval_steps, eval_nash_conv)\n",
    "fig.show()"
   ]
  },
  {
   "cell_type": "code",
   "execution_count": 79,
   "metadata": {},
   "outputs": [
    {
     "name": "stdout",
     "output_type": "stream",
     "text": [
      "0        p=[0.804 0.196]\n",
      "0pb      p=[1.000 0.000]\n",
      "1        p=[0.997 0.003]\n",
      "1pb      p=[0.445 0.555]\n",
      "2        p=[0.391 0.609]\n",
      "2pb      p=[0.000 1.000]\n",
      "1p       p=[0.997 0.003]\n",
      "1b       p=[0.632 0.368]\n",
      "2p       p=[0.000 1.000]\n",
      "2b       p=[0.000 1.000]\n",
      "0p       p=[0.681 0.319]\n",
      "0b       p=[1.000 0.000]\n",
      "P(bet with Jack) = alpha = 0.196\n",
      "P(bet with King) = 0.609, cf 0.587\n",
      "P(call with Queen after checking) = 0.555, cf 0.529\n"
     ]
    }
   ],
   "source": [
    "# Display the whole policy\n",
    "print_policy(policy)\n",
    "\n",
    "# How likely are we to bet with a Jack?\n",
    "alpha = policy.action_probability_array[policy.state_lookup['0']][1]\n",
    "print(f'P(bet with Jack) = alpha = {alpha:.3}')\n",
    "\n",
    "# How likely are we to bet with a King?\n",
    "pK = policy.action_probability_array[policy.state_lookup['2']][1]\n",
    "print(f'P(bet with King) = {pK:.3}, cf {alpha * 3:.3}')\n",
    "\n",
    "# How likely are we to call with a Queen?\n",
    "pQ = policy.action_probability_array[policy.state_lookup['1pb']][1]\n",
    "print(f'P(call with Queen after checking) = {pQ:.3}, cf {alpha + 1/3:.3}')"
   ]
  },
  {
   "cell_type": "code",
   "execution_count": 80,
   "metadata": {},
   "outputs": [],
   "source": [
    "def sample(actions_and_probs):\n",
    "  actions, probs = zip(*actions_and_probs)\n",
    "  return np.random.choice(actions, p=probs)\n",
    "\n",
    "def policy_as_list(policy, state):\n",
    "  return list(enumerate(policy.policy_for_key(state.information_state_string())))\n",
    "\n",
    "def env_action(state):\n",
    "  if state.is_chance_node():\n",
    "    p = state.chance_outcomes()\n",
    "  else:\n",
    "    p = policy_as_list(fixed_policy, state)\n",
    "  return sample(p)\n",
    "\n",
    "def softmax(x):\n",
    "  x = np.exp(x - np.max(x, axis=-1, keepdims=True))\n",
    "  return x / np.sum(x, axis=-1, keepdims=True)\n",
    "\n",
    "def generate_trajectory(state, player):\n",
    "  trajectory = []\n",
    "  while not state.is_terminal():\n",
    "    if state.current_player() == player:\n",
    "      action = sample(policy_as_list(rl_policy, state))\n",
    "      trajectory.append((rl_policy.state_index(state), action))\n",
    "    else:\n",
    "      action = env_action(state)\n",
    "    state.apply_action(action)\n",
    "  return trajectory, state.returns()[player]\n"
   ]
  },
  {
   "cell_type": "code",
   "execution_count": 81,
   "metadata": {},
   "outputs": [
    {
     "name": "stdout",
     "output_type": "stream",
     "text": [
      "([(4, 0)], 1.0)\n",
      "([(2, 0)], 1.0)\n",
      "([(2, 1)], -2.0)\n",
      "([(0, 0), (1, 1)], -2.0)\n",
      "([(2, 1)], 1.0)\n"
     ]
    }
   ],
   "source": [
    "\n",
    "fixed_policy = policy_lib.TabularPolicy(game)\n",
    "rl_policy = policy_lib.TabularPolicy(game)\n",
    "for _ in range(5):\n",
    "  print(generate_trajectory(game.new_initial_state(), player=0))"
   ]
  },
  {
   "cell_type": "code",
   "execution_count": 82,
   "metadata": {},
   "outputs": [],
   "source": [
    "# Run REINFORCE\n",
    "N = 10000\n",
    "lr = 0.01\n",
    "for step in range(N):\n",
    "  for player in (0, 1):\n",
    "    trajectory, reward = generate_trajectory(game.new_initial_state(), player)\n",
    "    for s, a in trajectory:\n",
    "      logits = np.log(rl_policy.action_probability_array[s])\n",
    "      logits[a] += lr * reward\n",
    "      rl_policy.action_probability_array[s] = softmax(logits)"
   ]
  },
  {
   "cell_type": "code",
   "execution_count": 83,
   "metadata": {},
   "outputs": [
    {
     "name": "stdout",
     "output_type": "stream",
     "text": [
      "0        p=[0.273 0.727]\n",
      "0pb      p=[0.627 0.373]\n",
      "1        p=[0.000 1.000]\n",
      "1pb      p=[0.416 0.584]\n",
      "2        p=[0.000 1.000]\n",
      "2pb      p=[0.246 0.754]\n",
      "1p       p=[0.000 1.000]\n",
      "1b       p=[0.024 0.976]\n",
      "2p       p=[0.000 1.000]\n",
      "2b       p=[0.000 1.000]\n",
      "0p       p=[0.364 0.636]\n",
      "0b       p=[0.670 0.330]\n"
     ]
    },
    {
     "data": {
      "text/plain": [
       "0.7649134500652732"
      ]
     },
     "execution_count": 83,
     "metadata": {},
     "output_type": "execute_result"
    }
   ],
   "source": [
    "# Evaluate the policy\n",
    "def evaluate(state, rl_policy, player):\n",
    "  if state.is_terminal():\n",
    "    return state.returns()[player]\n",
    "  elif state.current_player() == player:\n",
    "    ap = policy_as_list(rl_policy, state)\n",
    "  elif state.is_chance_node():\n",
    "    ap = state.chance_outcomes()\n",
    "  else:\n",
    "    ap = policy_as_list(fixed_policy, state)\n",
    "  return sum(p * evaluate(state.child(a), rl_policy, player) for a, p in ap)\n",
    "\n",
    "def eval(rl_policy):\n",
    "  return (evaluate(game.new_initial_state(), rl_policy, player=0)\n",
    "        + evaluate(game.new_initial_state(), rl_policy, player=1))\n",
    "\n",
    "print_policy(rl_policy)\n",
    "eval(rl_policy)"
   ]
  },
  {
   "cell_type": "code",
   "execution_count": 84,
   "metadata": {},
   "outputs": [
    {
     "name": "stdout",
     "output_type": "stream",
     "text": [
      "0        p=[0.000 1.000]\n",
      "0pb      p=[1.000 0.000]\n",
      "1        p=[0.000 1.000]\n",
      "1pb      p=[0.000 1.000]\n",
      "2        p=[0.000 1.000]\n",
      "2pb      p=[0.000 1.000]\n",
      "1p       p=[0.000 1.000]\n",
      "1b       p=[0.000 1.000]\n",
      "2p       p=[0.000 1.000]\n",
      "2b       p=[0.000 1.000]\n",
      "0p       p=[0.000 1.000]\n",
      "0b       p=[1.000 0.000]\n"
     ]
    },
    {
     "data": {
      "text/plain": [
       "0.9166666666666665"
      ]
     },
     "execution_count": 84,
     "metadata": {},
     "output_type": "execute_result"
    }
   ],
   "source": [
    "# Evaluate the greedy policy\n",
    "greedy_policy = policy_lib.TabularPolicy(game)\n",
    "greedy_policy.action_probability_array = (np.eye(game.num_distinct_actions())\n",
    "              [np.argmax(rl_policy.action_probability_array, axis=-1)])\n",
    "\n",
    "print_policy(greedy_policy)\n",
    "eval(greedy_policy)\n"
   ]
  },
  {
   "cell_type": "code",
   "execution_count": null,
   "metadata": {},
   "outputs": [],
   "source": []
  },
  {
   "cell_type": "code",
   "execution_count": null,
   "metadata": {},
   "outputs": [],
   "source": []
  }
 ],
 "metadata": {
  "kernelspec": {
   "display_name": "Python 3",
   "language": "python",
   "name": "python3"
  },
  "language_info": {
   "codemirror_mode": {
    "name": "ipython",
    "version": 3
   },
   "file_extension": ".py",
   "mimetype": "text/x-python",
   "name": "python",
   "nbconvert_exporter": "python",
   "pygments_lexer": "ipython3",
   "version": "3.6.9"
  }
 },
 "nbformat": 4,
 "nbformat_minor": 2
}
