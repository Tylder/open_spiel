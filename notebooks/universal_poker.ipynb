{
 "cells": [
  {
   "cell_type": "code",
   "execution_count": 1,
   "metadata": {},
   "outputs": [],
   "source": [
    "from __future__ import absolute_import\n",
    "from __future__ import division\n",
    "from __future__ import print_function\n",
    "\n",
    "import sys\n",
    "assert sys.version_info.major == 3\n",
    "import os\n",
    "\n",
    "add_paths = True\n",
    "if add_paths:\n",
    "  sys.path.insert(0, os.path.join(os.path.abspath(os.getcwd()), '..', '..'))\n",
    "  sys.path.insert(\n",
    "      0,\n",
    "      os.path.join(os.path.abspath(os.getcwd()), '..', '..', 'build', 'python'))\n",
    "  import pyspiel\n",
    "\n",
    "\n",
    "from open_spiel.python.algorithms import cfr\n",
    "from open_spiel.python.algorithms import exploitability\n",
    "from open_spiel.python.algorithms import expected_game_score\n",
    "from open_spiel.python.bots import uniform_random\n",
    "from open_spiel.python.visualizations import treeviz"
   ]
  },
  {
   "cell_type": "code",
   "execution_count": 2,
   "metadata": {},
   "outputs": [
    {
     "name": "stdout",
     "output_type": "stream",
     "text": [
      "Registered games:\n",
      "['backgammon', 'battleship', 'blackjack', 'blotto', 'breakthrough', 'bridge', 'bridge_uncontested_bidding', 'catch', 'chess', 'cliff_walking', 'clobber', 'coin_game', 'connect_four', 'coop_box_pushing', 'coop_to_1p', 'coordinated_mp', 'cursor_go', 'dark_chess', 'dark_hex', 'dark_hex_ir', 'deep_sea', 'efg_game', 'first_sealed_auction', 'gin_rummy', 'go', 'goofspiel', 'hanabi', 'havannah', 'hearts', 'hex', 'kriegspiel', 'kuhn_poker', 'laser_tag', 'leduc_poker', 'lewis_signaling', 'liars_dice', 'liars_dice_ir', 'markov_soccer', 'matching_pennies_3p', 'matrix_cd', 'matrix_coordination', 'matrix_mp', 'matrix_pd', 'matrix_rps', 'matrix_rpsw', 'matrix_sh', 'matrix_shapleys_game', 'mfg_crowd_modelling', 'mfg_crowd_modelling_2d', 'misere', 'negotiation', 'nfg_game', 'normal_form_extensive_game', 'oh_hell', 'oshi_zumo', 'othello', 'oware', 'pentago', 'phantom_ttt', 'phantom_ttt_ir', 'pig', 'quoridor', 'rbc', 'repeated_game', 'sheriff', 'skat', 'solitaire', 'start_at', 'stones_and_gems', 'tarok', 'tic_tac_toe', 'tiny_bridge_2p', 'tiny_bridge_4p', 'tiny_hanabi', 'trade_comm', 'turn_based_simultaneous_game', 'universal_poker', 'y']\n"
     ]
    }
   ],
   "source": [
    "games_list = pyspiel.registered_names()\n",
    "\n",
    "print(\"Registered games:\")\n",
    "print(games_list)\n",
    "\n",
    "game = pyspiel.load_game(\"universal_poker\")"
   ]
  },
  {
   "cell_type": "code",
   "execution_count": 3,
   "metadata": {},
   "outputs": [
    {
     "name": "stdout",
     "output_type": "stream",
     "text": [
      "[-0.1391  0.1391]\n",
      "[ 22.73 -22.73]\n"
     ]
    }
   ],
   "source": [
    "\"\"\"Test that Python and C++ bots can be called by a C++ algorithm.\"\"\"\n",
    "\n",
    "from absl.testing import absltest\n",
    "import numpy as np\n",
    "\n",
    "from open_spiel.python.bots import uniform_random\n",
    "\n",
    "game = pyspiel.load_game(\"leduc_poker\")\n",
    "bots = [\n",
    "    pyspiel.make_uniform_random_bot(0, 1234),\n",
    "    uniform_random.UniformRandomBot(1, np.random.RandomState(4321)),\n",
    "]\n",
    "results = np.array([\n",
    "    pyspiel.evaluate_bots(game.new_initial_state(), bots, iteration)\n",
    "    for iteration in range(10000)\n",
    "])\n",
    "leduc_average_results = np.mean(results, axis=0)\n",
    "print(leduc_average_results)\n",
    "\n",
    "game = pyspiel.load_game(\"universal_poker\")\n",
    "bots = [\n",
    "    pyspiel.make_uniform_random_bot(0, 1234),\n",
    "    uniform_random.UniformRandomBot(1, np.random.RandomState(4321)),\n",
    "]\n",
    "results = np.array([\n",
    "    pyspiel.evaluate_bots(game.new_initial_state(), bots, iteration)\n",
    "    for iteration in range(10000)\n",
    "])\n",
    "universal_poker_average_results = np.mean(results, axis=0)\n",
    "print(universal_poker_average_results)\n",
    "\n",
    "#np.testing.assert_allclose(universal_poker_average_results, leduc_average_results, atol=0.1)"
   ]
  },
  {
   "cell_type": "code",
   "execution_count": 4,
   "metadata": {},
   "outputs": [
    {
     "data": {
      "text/plain": [
       "'universal_poker(gamedef=GAMEDEF\\nlimit\\nnumPlayers = 3\\nnumRounds = 1\\nblind = 1 1 1\\nraiseSize = 1\\nfirstPlayer = 1\\nmaxRaises = 1\\nnumSuits = 1\\nnumRanks = 4\\nnumHoleCards = 1\\nnumBoardCards = 0\\nEND GAMEDEF\\n)'"
      ]
     },
     "execution_count": 4,
     "metadata": {},
     "output_type": "execute_result"
    }
   ],
   "source": [
    "universal_poker_kuhn_limit_3p = \"\"\"\\\n",
    "GAMEDEF\n",
    "betting = limit\n",
    "numPlayers = 3\n",
    "numRounds = 1\n",
    "blind = 1 1 1\n",
    "raiseSize = 1\n",
    "firstPlayer = 1\n",
    "maxRaises = 1\n",
    "numSuits = 1\n",
    "numRanks = 4\n",
    "numHoleCards = 1\n",
    "numBoardCards = 0\n",
    "END GAMEDEF\n",
    "\"\"\"\n",
    "\n",
    "game = pyspiel.load_game(\n",
    "    \"universal_poker\",\n",
    "    {\"gamedef\": universal_poker_kuhn_limit_3p})\n",
    "str(game)"
   ]
  },
  {
   "cell_type": "code",
   "execution_count": 5,
   "metadata": {},
   "outputs": [
    {
     "name": "stdout",
     "output_type": "stream",
     "text": [
      "Iteration 0 exploitability of the  0.45833333333333326 vs: 0.45833333333333326\n",
      "Iteration 1 exploitability of the  0.27083333333333337 vs: 0.27083333333333337\n",
      "Iteration 2 exploitability of the  0.1944444444444444 vs: 0.1944444444444444\n",
      "Iteration 3 exploitability of the  0.14062500000000003 vs: 0.14062500000000003\n",
      "Iteration 4 exploitability of the  0.12138888888888891 vs: 0.12138888888888891\n",
      "Iteration 5 exploitability of the  0.09672619047619041 vs: 0.09672619047619041\n",
      "Iteration 6 exploitability of the  0.10796957671957674 vs: 0.10796957671957674\n",
      "Iteration 7 exploitability of the  0.09045463963098324 vs: 0.09045463963098324\n",
      "Iteration 8 exploitability of the  0.0775675533215757 vs: 0.0775675533215757\n",
      "Iteration 9 exploitability of the  0.06869879381715754 vs: 0.06869879381715754\n",
      "Final exploitability is 0.06869879381715754 vs 0.06869879381715754\n"
     ]
    }
   ],
   "source": [
    "# Compare exloitability for two games\n",
    "players = 2\n",
    "iterations = 10\n",
    "print_freq = 1\n",
    "\n",
    "def compare_exploitability(game_1, game_2):\n",
    "  cfr_solver_1 = cfr.CFRSolver(game_1)\n",
    "  cfr_solver_2 = cfr.CFRSolver(game_2)\n",
    "  for i in range(iterations):\n",
    "    cfr_solver_1.evaluate_and_update_policy()\n",
    "    cfr_solver_2.evaluate_and_update_policy()\n",
    "    if i % print_freq == 0:\n",
    "      conv_1 = exploitability.exploitability(game_1,\n",
    "                                             cfr_solver_1.average_policy())\n",
    "      conv_2 = exploitability.exploitability(game_2,\n",
    "                                             cfr_solver_2.average_policy())\n",
    "\n",
    "      print(\"Iteration {} exploitability of the  {} vs: {}\".format(\n",
    "          i, conv_1, conv_2))\n",
    "\n",
    "  print(\"Final exploitability is {} vs {}\".format(conv_1, conv_2))\n",
    "\n",
    "\n",
    "game_1 = pyspiel.load_game(\"kuhn_poker\",\n",
    "                           {\"players\": 2})\n",
    "\n",
    "universal_poker_kuhn_limit_2p = \"\"\"\\\n",
    "GAMEDEF\n",
    "limit\n",
    "numPlayers = 2\n",
    "numRounds = 1\n",
    "blind = 1 1 \n",
    "raiseSize = 1\n",
    "firstPlayer = 1\n",
    "maxRaises = 1\n",
    "numSuits = 1\n",
    "numRanks = 3\n",
    "numHoleCards = 1\n",
    "numBoardCards = 0\n",
    "END GAMEDEF\n",
    "\"\"\"\n",
    "game_2 = pyspiel.load_game(\n",
    "    \"universal_poker\",\n",
    "    {\"gamedef\": universal_poker_kuhn_limit_2p})\n",
    "compare_exploitability(game_1, game_2)"
   ]
  },
  {
   "cell_type": "code",
   "execution_count": 6,
   "metadata": {},
   "outputs": [
    {
     "name": "stdout",
     "output_type": "stream",
     "text": [
      "Iteration 0 exploitability of the  2.373611111111111 vs: 2.373611111111111\n",
      "Iteration 1 exploitability of the  2.0613194444444445 vs: 2.0613194444444445\n",
      "Iteration 2 exploitability of the  1.7988065869138403 vs: 1.7988065869138403\n",
      "Iteration 3 exploitability of the  1.6590264691929169 vs: 1.6590264691929169\n",
      "Iteration 4 exploitability of the  1.4713245596865683 vs: 1.4713245596865683\n",
      "Iteration 5 exploitability of the  1.3046625366898728 vs: 1.3046625366898728\n",
      "Iteration 6 exploitability of the  1.1565805178914506 vs: 1.1565805178914506\n",
      "Iteration 7 exploitability of the  1.0447752045677787 vs: 1.0447752045677787\n",
      "Iteration 8 exploitability of the  0.9617541410503099 vs: 0.9617541410503099\n",
      "Iteration 9 exploitability of the  0.888578983168769 vs: 0.888578983168769\n",
      "Final exploitability is 0.888578983168769 vs 0.888578983168769\n"
     ]
    }
   ],
   "source": [
    "game_1 = pyspiel.load_game(\"leduc_poker\",\n",
    "                           {\"players\": 2})\n",
    "# Taken verbatim from the linked paper above: \"In Leduc hold'em, the deck\n",
    "# consists of two suits with three cards in each suit. There are two rounds.\n",
    "# In the first round a single private card is dealt to each player. In the\n",
    "# second round a single board card is revealed. There is a two-bet maximum,\n",
    "# with raise amounts of 2 and 4 in the first and second round, respectively.\n",
    "# Both players start the first round with 1 already in the pot.\n",
    "\n",
    "universal_poker_leduc_limit_2p = \"\"\"\\\n",
    "GAMEDEF\n",
    "limit\n",
    "numPlayers = 2\n",
    "numRounds = 2\n",
    "blind = 1 1\n",
    "raiseSize = 1 1\n",
    "firstPlayer = 1 1\n",
    "maxRaises = 2 2\n",
    "raiseSize = 2 4\n",
    "numSuits = 2\n",
    "numRanks = 3\n",
    "numHoleCards = 1 0\n",
    "numBoardCards = 0 1\n",
    "END GAMEDEF\n",
    "\"\"\"\n",
    "game_2 = pyspiel.load_game(\n",
    "    \"universal_poker\",\n",
    "    {\"gamedef\": universal_poker_leduc_limit_2p})\n",
    "compare_exploitability(game_1, game_2)"
   ]
  },
  {
   "cell_type": "code",
   "execution_count": 7,
   "metadata": {},
   "outputs": [],
   "source": [
    "game = \"universal_poker\"\n",
    "out = \"gametree.png\"\n",
    "prog = \"dot\"\n",
    "group_infosets = False\n",
    "group_terminal = False\n",
    "verbose = False\n",
    "\n",
    "\n",
    "def _zero_sum_node_decorator(state):\n",
    "  \"\"\"Custom node decorator that only shows the return of the first player.\"\"\"\n",
    "  attrs = treeviz.default_node_decorator(state)  # get default attributes\n",
    "  if state.is_terminal():\n",
    "    attrs[\"label\"] = str(int(state.returns()[0]))\n",
    "  return attrs\n",
    "\n",
    "\n",
    "game = pyspiel.load_game(\n",
    "    game, {\"gamedef\": universal_poker_kuhn_limit_2p})\n",
    "game_type = game.get_type()\n",
    "\n",
    "if game_type.dynamics != pyspiel.GameType.Dynamics.SEQUENTIAL:\n",
    "  raise ValueError(\"Game must be sequential, not {}\".format(game_type.dynamics))\n",
    "\n",
    "if (game_type.utility == pyspiel.GameType.Utility.ZERO_SUM and\n",
    "    game.num_players() == 2):\n",
    "  gametree = treeviz.GameTree(\n",
    "      game,\n",
    "      node_decorator=_zero_sum_node_decorator,\n",
    "      group_infosets=group_infosets,\n",
    "      group_terminal=group_terminal)\n",
    "else:\n",
    "  gametree = treeviz.GameTree(game)  # use default decorators\n",
    "\n",
    "if verbose:\n",
    "  logging.info(\"Game tree:\\n%s\", gametree.to_string())\n",
    "\n",
    "gametree.draw(out, prog=prog)"
   ]
  },
  {
   "cell_type": "code",
   "execution_count": 8,
   "metadata": {},
   "outputs": [],
   "source": [
    "gametree.draw(out, prog=prog)"
   ]
  },
  {
   "cell_type": "code",
   "execution_count": null,
   "metadata": {},
   "outputs": [],
   "source": []
  }
 ],
 "metadata": {
  "kernelspec": {
   "display_name": "Python 3",
   "language": "python",
   "name": "python3"
  },
  "language_info": {
   "codemirror_mode": {
    "name": "ipython",
    "version": 3
   },
   "file_extension": ".py",
   "mimetype": "text/x-python",
   "name": "python",
   "nbconvert_exporter": "python",
   "pygments_lexer": "ipython3",
   "version": "3.6.9"
  }
 },
 "nbformat": 4,
 "nbformat_minor": 2
}
