{
 "cells": [
  {
   "cell_type": "code",
   "execution_count": 2,
   "metadata": {},
   "outputs": [],
   "source": [
    "import numpy as np\n",
    "import pyspiel\n",
    "import tensorflow as tf"
   ]
  },
  {
   "cell_type": "code",
   "execution_count": 3,
   "metadata": {},
   "outputs": [],
   "source": [
    "game = pyspiel.load_game(\"tic_tac_toe\")\n",
    "state = game.new_initial_state()"
   ]
  },
  {
   "cell_type": "code",
   "execution_count": 4,
   "metadata": {},
   "outputs": [
    {
     "name": "stdout",
     "output_type": "stream",
     "text": [
      "x..\n",
      "...\n",
      "...\n",
      "\n",
      "xo.\n",
      "...\n",
      "...\n",
      "\n",
      "xo.\n",
      "...\n",
      ".x.\n",
      "\n",
      "xo.\n",
      "...\n",
      ".xo\n",
      "\n",
      "xo.\n",
      "...\n",
      "xxo\n",
      "\n",
      "xo.\n",
      ".o.\n",
      "xxo\n",
      "\n",
      "xo.\n",
      ".ox\n",
      "xxo\n",
      "\n",
      "xo.\n",
      "oox\n",
      "xxo\n",
      "\n",
      "xox\n",
      "oox\n",
      "xxo\n",
      "\n"
     ]
    }
   ],
   "source": [
    "while not state.is_terminal():\n",
    "  state.apply_action(np.random.choice(state.legal_actions()))\n",
    "  print(str(state) + '\\n')"
   ]
  },
  {
   "cell_type": "code",
   "execution_count": null,
   "metadata": {},
   "outputs": [],
   "source": []
  }
 ],
 "metadata": {
  "kernelspec": {
   "display_name": "Python 3",
   "language": "python",
   "name": "python3"
  },
  "language_info": {
   "codemirror_mode": {
    "name": "ipython",
    "version": 3
   },
   "file_extension": ".py",
   "mimetype": "text/x-python",
   "name": "python",
   "nbconvert_exporter": "python",
   "pygments_lexer": "ipython3",
   "version": "3.6.9"
  }
 },
 "nbformat": 4,
 "nbformat_minor": 2
}
