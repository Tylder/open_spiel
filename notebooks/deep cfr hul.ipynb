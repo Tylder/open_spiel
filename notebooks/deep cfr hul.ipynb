{
 "cells": [
  {
   "cell_type": "code",
   "execution_count": 1,
   "metadata": {
    "pycharm": {
     "name": "#%%\n"
    }
   },
   "outputs": [],
   "source": [
    "import numpy as np\n",
    "import tensorflow as tf\n",
    "\n",
    "import pyspiel\n",
    "\n",
    "from open_spiel.python.algorithms.deep_cfr_tf2 import DeepCFRSolver\n",
    "from open_spiel.python.algorithms import exploitability\n",
    "from open_spiel.python import policy"
   ]
  },
  {
   "cell_type": "code",
   "execution_count": 2,
   "metadata": {
    "pycharm": {
     "name": "#%%\n"
    }
   },
   "outputs": [
    {
     "data": {
      "text/plain": [
       "[PhysicalDevice(name='/physical_device:CPU:0', device_type='CPU'),\n",
       " PhysicalDevice(name='/physical_device:GPU:0', device_type='GPU'),\n",
       " PhysicalDevice(name='/physical_device:GPU:1', device_type='GPU')]"
      ]
     },
     "execution_count": 2,
     "metadata": {},
     "output_type": "execute_result"
    }
   ],
   "source": [
    "tf.config.list_physical_devices()"
   ]
  },
  {
   "cell_type": "code",
   "execution_count": 3,
   "metadata": {
    "pycharm": {
     "name": "#%%\n"
    }
   },
   "outputs": [],
   "source": [
    "game = pyspiel.load_game('kuhn_poker', {\"players\": 2})"
   ]
  },
  {
   "cell_type": "code",
   "execution_count": 4,
   "metadata": {
    "pycharm": {
     "name": "#%%\n"
    }
   },
   "outputs": [],
   "source": [
    "solver = DeepCFRSolver(\n",
    "        game,\n",
    "        policy_network_layers=(128, 128),\n",
    "        advantage_network_layers=(128, 128),\n",
    "        num_iterations=1024,\n",
    "        num_traversals=128,\n",
    "        learning_rate=1e-4,\n",
    "        batch_size_advantage=2048,\n",
    "        batch_size_strategy=2048,\n",
    "        memory_capacity=1e7,\n",
    "        infer_device='/device:gpu:0',\n",
    "        train_device='/device:gpu:0')"
   ]
  },
  {
   "cell_type": "code",
   "execution_count": 5,
   "metadata": {
    "pycharm": {
     "name": "#%%\n"
    }
   },
   "outputs": [
    {
     "name": "stdout",
     "output_type": "stream",
     "text": [
      "Deep CFR - NashConv: 1.0127787793439207\n"
     ]
    }
   ],
   "source": [
    "conv = exploitability.nash_conv(\n",
    "    game,\n",
    "    policy.tabular_policy_from_callable(game, solver.action_probabilities))\n",
    "print(\"Deep CFR - NashConv:\", conv)"
   ]
  },
  {
   "cell_type": "code",
   "execution_count": 6,
   "metadata": {
    "pycharm": {
     "name": "#%%\n"
    }
   },
   "outputs": [
    {
     "name": "stdout",
     "output_type": "stream",
     "text": [
      "CPU times: user 4h 41min 14s, sys: 20min 23s, total: 5h 1min 38s\n",
      "Wall time: 2h 13min 45s\n"
     ]
    }
   ],
   "source": [
    "%%time\n",
    "_, advantage_losses, policy_loss = solver.solve()"
   ]
  },
  {
   "cell_type": "code",
   "execution_count": 7,
   "metadata": {
    "pycharm": {
     "name": "#%%\n"
    }
   },
   "outputs": [
    {
     "name": "stdout",
     "output_type": "stream",
     "text": [
      "Advantage for player: 0 [<tf.Tensor: shape=(), dtype=float32, numpy=1.6771095>, <tf.Tensor: shape=(), dtype=float32, numpy=1.0306783>, '...', <tf.Tensor: shape=(), dtype=float32, numpy=0.45339543>, <tf.Tensor: shape=(), dtype=float32, numpy=0.45989457>]\n",
      "Advantage Buffer Size for player 0 189508\n",
      "Advantage for player: 1 [<tf.Tensor: shape=(), dtype=float32, numpy=1.1578948>, <tf.Tensor: shape=(), dtype=float32, numpy=1.2198786>, '...', <tf.Tensor: shape=(), dtype=float32, numpy=0.38269484>, <tf.Tensor: shape=(), dtype=float32, numpy=0.4145687>]\n",
      "Advantage Buffer Size for player 1 131072\n",
      "Strategy Buffer Size: 480860\n",
      "Final policy loss: tf.Tensor(0.056190208, shape=(), dtype=float32)\n",
      "Deep CFR - NashConv: 0.02944178360126498\n"
     ]
    }
   ],
   "source": [
    "for player, losses in list(advantage_losses.items()):\n",
    "  print(\"Advantage for player:\", player,\n",
    "                losses[:2] + [\"...\"] + losses[-2:])\n",
    "  print(\"Advantage Buffer Size for player\", player,\n",
    "                len(solver.advantage_buffers[player]))\n",
    "print(\"Strategy Buffer Size:\",\n",
    "              len(solver.strategy_buffer))\n",
    "print(\"Final policy loss:\", policy_loss)\n",
    "conv = exploitability.nash_conv(\n",
    "    game,\n",
    "    policy.tabular_policy_from_callable(game, solver.action_probabilities))\n",
    "print(\"Deep CFR - NashConv:\", conv)"
   ]
  },
  {
   "cell_type": "code",
   "execution_count": null,
   "metadata": {
    "pycharm": {
     "name": "#%%\n"
    }
   },
   "outputs": [],
   "source": []
  }
 ],
 "metadata": {
  "kernelspec": {
   "display_name": "Python 3",
   "language": "python",
   "name": "python3"
  },
  "language_info": {
   "codemirror_mode": {
    "name": "ipython",
    "version": 3
   },
   "file_extension": ".py",
   "mimetype": "text/x-python",
   "name": "python",
   "nbconvert_exporter": "python",
   "pygments_lexer": "ipython3",
   "version": "3.6.9"
  }
 },
 "nbformat": 4,
 "nbformat_minor": 2
}